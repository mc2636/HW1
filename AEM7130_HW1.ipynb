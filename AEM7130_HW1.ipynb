{
 "cells": [
  {
   "cell_type": "markdown",
   "metadata": {},
   "source": [
    "# Homework 1: Due February 13 at 3:00PM.\n",
    "Fork/clone this repo and then solve the problems in this notebook. Make sure your code is well-commented, separated into different blocks in a smart way, and executed before your push it to **your** repository."
   ]
  },
  {
   "cell_type": "markdown",
   "metadata": {},
   "source": [
    "## Problem 1: Coding, integration, and a simple econ example\n",
    "A profit-maximizing firm faces a demand curve given by: $P(q) = a-bq$ where $b\\sim logN(\\mu,\\sigma)$ and has a cost function given by $C(q) = cq$. \n",
    "\n",
    "$\\text{1.}$ Solve for the optimal quantity analytically. Write your proof in the notebook using markdown.\n",
    "\n",
    "$\\pi(q) = P(q)\\cdot q - C(q) = (a - bq)\\cdot q - cq \\ \\ \\Rightarrow \\ E[\\pi(q)] = (a - E[b]q)\\cdot q - cq$\n",
    "\n",
    "F.O.C.: (MR = MC): $a - 2E[b]q = c$.  \n",
    "S.O.C.: $-2E[b]<0$. (Satisfied) \n",
    "\n",
    "Therefore, $q^* = \\frac{a - c}{2E[b]}$ where $E[b] = e^{\\mu +\\sigma^2/2}$\n",
    "\n",
    "\n",
    "$\\text{2.}$ Write a function called `profit_max_q(a, c, mu, sigma, method, n)` that returns the numerical optimal quantity given a set of inputs $(a, c, \\mu, \\sigma, method, n)$, where `method` is a string that takes on a value of `\"mc\"` or `\"quad\"` and determines whether you integrate using Monte Carlo or quadrature methods, and `n` is the number of Monte Carlo draws or quadrature nodes.\n"
   ]
  },
  {
   "cell_type": "code",
   "execution_count": 1,
   "metadata": {},
   "outputs": [],
   "source": [
    "using Distributions, CompEcon"
   ]
  },
  {
   "cell_type": "code",
   "execution_count": 2,
   "metadata": {},
   "outputs": [
    {
     "data": {
      "text/plain": [
       "profit_max_q (generic function with 1 method)"
      ]
     },
     "execution_count": 2,
     "metadata": {},
     "output_type": "execute_result"
    }
   ],
   "source": [
    "#=\n",
    "    Function profit_max_q(a, c, mu, sigma, method, n) \n",
    "    Inputs:\n",
    "    a:     Intercept of demand curve.\n",
    "    c:     Slope of demand curve.\n",
    "    mu:    Mean of lognormal distribution.\n",
    "    sigma: Standard deviation of lognormal distribution.\n",
    "    method:Integration method. Type-string. method=\"mc\": Monte Carlo Simulation and method=\"quad\": Quadrature.\n",
    "    n:     number of monte Carlo draws or quadrature nodes\n",
    "    Output:Optimal quantity\n",
    "=#\n",
    "\n",
    "function profit_max_q(a, c, mu, sigma, method, n)\n",
    "    if method == \"mc\"                   # method Monte-Carlo\n",
    "        x = rand(LogNormal(mu,sigma),n) # generating n random numbers from lognormal\n",
    "        Eb = sum(x)/n                   # Expected value of b         \n",
    "        return (a - c) / (2*Eb)         # optimal value of quantity\n",
    "        \n",
    "        elseif method == \"quad\"         # method quadrature\n",
    "        if n > 198                      # check the number of nodes; if n > 198, we get error\n",
    "            n = 198                     # fix n = 198 in that case\n",
    "        end\n",
    "        (x,w) = qnwlogn(n,mu,sigma^2)   # generating n quadrature nodes and weights\n",
    "        Eb = sum(w .* x)                # Expected value of b\n",
    "        return (a - c) / (2*Eb)         # Optimal value of quantity\n",
    "        \n",
    "    else\n",
    "        print(\"Method Error\")           # method error other than mc and quad\n",
    "    end\n",
    "end"
   ]
  },
  {
   "cell_type": "markdown",
   "metadata": {},
   "source": [
    "$\\text{3.}$ Choose a set of values $(a, c, \\mu, \\sigma)$ and use `profit_max_q` to solve the problem for both approaches to integration. Use the `CompEcon` package to implement the quadrature routine."
   ]
  },
  {
   "cell_type": "code",
   "execution_count": 3,
   "metadata": {},
   "outputs": [
    {
     "name": "stdout",
     "output_type": "stream",
     "text": [
      "  1.352627 seconds (3.86 M allocations: 191.145 MiB, 5.80% gc time)\n"
     ]
    },
    {
     "data": {
      "text/plain": [
       "298.40943890975825"
      ]
     },
     "execution_count": 3,
     "metadata": {},
     "output_type": "execute_result"
    }
   ],
   "source": [
    "# example of parameter values with Monte Carlo integration\n",
    "a = 1000\n",
    "c = 1\n",
    "mu = 0\n",
    "sigma = 1\n",
    "method = \"mc\"\n",
    "n = 10000\n",
    "\n",
    "@time q_mc = profit_max_q(a,c,mu,sigma,method,n)"
   ]
  },
  {
   "cell_type": "code",
   "execution_count": 4,
   "metadata": {},
   "outputs": [
    {
     "name": "stdout",
     "output_type": "stream",
     "text": [
      "  0.575159 seconds (1.53 M allocations: 80.472 MiB, 4.02% gc time)\n"
     ]
    },
    {
     "data": {
      "text/plain": [
       "302.96206452646123"
      ]
     },
     "execution_count": 4,
     "metadata": {},
     "output_type": "execute_result"
    }
   ],
   "source": [
    "# change the method to quadrature integration\n",
    "method = \"quad\"\n",
    "\n",
    "@time q_quad = profit_max_q(a,c,mu,sigma,method,n)"
   ]
  },
  {
   "cell_type": "code",
   "execution_count": 5,
   "metadata": {},
   "outputs": [
    {
     "name": "stdout",
     "output_type": "stream",
     "text": [
      "error in mc method is:4.55262561670213\n",
      "error in quad method is:8.526512829121202e-13"
     ]
    }
   ],
   "source": [
    "# the value of the analytical solution\n",
    "q_an = (a - c) / (2* exp(mu + sigma^2/2))\n",
    "\n",
    "print(\"error in mc method is:\")\n",
    "println(abs(q_mc - q_an))\n",
    "print(\"error in quad method is:\")\n",
    "print(abs(q_quad - q_an))"
   ]
  },
  {
   "cell_type": "markdown",
   "metadata": {
    "collapsed": true
   },
   "source": [
    "## Problem 2: Coding and Monte Carlo\n",
    "Approximate $\\pi$ using Monte Carlo. You may only use `rand()` to generate random numbers. Here is how to think about approximating $\\pi$:\n",
    "1. Suppose $U$ is a two dimensional random variable on the unit square $[0,1]\\times[0,1]$. The probability that $U$ is in a subset $B$ of $(0,1)\\times(0,1)$ is equal to the area of $B$.\n",
    "2. If $u_1,...,u_n$ are iid draws from $U$, then as $n$ grows (by an LLN type argument), the fraction that falls inside $B$ is the probability of another iid draw coming from $B$.\n",
    "3. The area of a circle is given by $\\pi \\times radius^2$."
   ]
  },
  {
   "cell_type": "code",
   "execution_count": 6,
   "metadata": {},
   "outputs": [
    {
     "name": "stdout",
     "output_type": "stream",
     "text": [
      "  0.000005 seconds (7 allocations: 240 bytes)\n"
     ]
    },
    {
     "data": {
      "text/plain": [
       "3.142224"
      ]
     },
     "execution_count": 6,
     "metadata": {},
     "output_type": "execute_result"
    }
   ],
   "source": [
    "n = 10^6                    # number of MC draws\n",
    "\n",
    "count = 0                   # Initialize count\n",
    "for i = 1:n\n",
    "    (x,y) = rand(2)         # two dimensional random number\n",
    "    # check if point is within the unit circle, update the count.\n",
    "    count = (x - 0.5)^2 + (y - 0.5)^2 < 1/4 ? count + 1 : count \n",
    "end\n",
    "\n",
    "@time pi_approx = 4*count/n # Area=4$\\pi$."
   ]
  },
  {
   "cell_type": "markdown",
   "metadata": {},
   "source": [
    "## Problem 3: Git\n",
    "1. Create a new repository named `problem-set-1-q-3` on your GitHub account.\n",
    "2. Put in a `README.md` with the following text: `Hello World!`.\n",
    "3. Put in a .gitignore file, ignoring the Jupyter files .ipynb_checkpoints and the project files, .projects.\n",
    "4. Create a new branch called `new-branch`.\n",
    "5. Change the `README.md` text to `Goodbye World!`.\n",
    "6. Merge `new-branch` back into `master`.\n",
    "\n",
    "Finished by following the instructions step by step."
   ]
  },
  {
   "cell_type": "markdown",
   "metadata": {},
   "source": [
    "## Problem 4: Memory location\n",
    "\n",
    "Let's learn about some of the nuances of memory allocation.\n",
    "\n",
    "1. Generate one $20000 \\times 20000$ array of random numbers named `x`. \n",
    "2. Make a function called `exp_cols` which exponentiates the elements of `x` column by column (i.e. by broadcasting `exp.()`) and returns the exponentiated array.\n",
    "3. Make a function called `exp_rows` which exponentiates the elements of `x` row by row (i.e. by broadcasting `exp.()`) and returns the exponentiated array."
   ]
  },
  {
   "cell_type": "code",
   "execution_count": 7,
   "metadata": {},
   "outputs": [
    {
     "data": {
      "text/plain": [
       "exp_rows (generic function with 1 method)"
      ]
     },
     "execution_count": 7,
     "metadata": {},
     "output_type": "execute_result"
    }
   ],
   "source": [
    "x = rand(20000,20000)          # Array of random numbers\n",
    "\n",
    "#=\n",
    "Function exp_cols(x) \n",
    "Inputs:\n",
    "x: Array.\n",
    "Method: Exponential of the elements of array column by column\n",
    "Output: \n",
    "y: Exponential of array\n",
    "=#\n",
    "\n",
    "function exp_cols(x)\n",
    "    n = size(x,2)              # number of columns of the array\n",
    "    y = similar(x)             # initialize the output array\n",
    "    for i = 1:n        \n",
    "        y[:,i] = exp.(x[:,i])  # exponents of elements column-wise\n",
    "    end\n",
    "    return y                   # exponent array\n",
    "end\n",
    "\n",
    "#=\n",
    "Function exp_rows(x) \n",
    "Inputs:\n",
    "x: Array.\n",
    "Method: Exponential of the elements of array row by row\n",
    "Output: \n",
    "y: Exponential of array\n",
    "=#\n",
    "\n",
    "function exp_rows(x)\n",
    "    n = size(x,1)              # number of rows of the array\n",
    "    y = similar(x)             # initialize the output array\n",
    "    for i = 1:n\n",
    "        y[i,:] = exp.(x[i,:])  # exponents of elements row-wise\n",
    "    end\n",
    "    return y                   # exponent array\n",
    "end"
   ]
  },
  {
   "cell_type": "markdown",
   "metadata": {},
   "source": [
    "$\\text{4.}$  Call `exp_cols(x)` and `exp_rows(x)` twice and calculate the elapsed time on the second call (avoids fixed cost of initial compiliation).\n",
    "\n",
    "$\\text{5.}$  Is one faster than the other?"
   ]
  },
  {
   "cell_type": "code",
   "execution_count": 8,
   "metadata": {},
   "outputs": [
    {
     "name": "stdout",
     "output_type": "stream",
     "text": [
      "  9.690325 seconds (194.16 k allocations: 8.949 GiB, 9.57% gc time)\n"
     ]
    }
   ],
   "source": [
    "@time exp_cols(x);"
   ]
  },
  {
   "cell_type": "code",
   "execution_count": 9,
   "metadata": {},
   "outputs": [
    {
     "name": "stdout",
     "output_type": "stream",
     "text": [
      " 12.320929 seconds (80.01 k allocations: 8.944 GiB, 6.68% gc time)\n"
     ]
    }
   ],
   "source": [
    "@time exp_cols(x);"
   ]
  },
  {
   "cell_type": "code",
   "execution_count": 10,
   "metadata": {},
   "outputs": [
    {
     "name": "stdout",
     "output_type": "stream",
     "text": [
      " 36.067744 seconds (226.25 k allocations: 8.951 GiB, 3.09% gc time)\n"
     ]
    }
   ],
   "source": [
    "@time exp_rows(x);"
   ]
  },
  {
   "cell_type": "code",
   "execution_count": 11,
   "metadata": {},
   "outputs": [
    {
     "name": "stdout",
     "output_type": "stream",
     "text": [
      " 26.514937 seconds (80.01 k allocations: 8.944 GiB, 3.64% gc time)\n"
     ]
    }
   ],
   "source": [
    "@time exp_rows(x);"
   ]
  },
  {
   "cell_type": "markdown",
   "metadata": {},
   "source": [
    "We see that exp_cols() is faster than exp_rows(). Also, the allocations are much fewer in the second time than the first time."
   ]
  }
 ],
 "metadata": {
  "anaconda-cloud": {},
  "kernelspec": {
   "display_name": "Julia 0.6.2",
   "language": "julia",
   "name": "julia-0.6"
  },
  "language_info": {
   "file_extension": ".jl",
   "mimetype": "application/julia",
   "name": "julia",
   "version": "0.6.2"
  }
 },
 "nbformat": 4,
 "nbformat_minor": 1
}
